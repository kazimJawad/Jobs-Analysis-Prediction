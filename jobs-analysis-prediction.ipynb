{
 "cells": [
  {
   "cell_type": "code",
   "execution_count": 1,
   "id": "859660ea",
   "metadata": {
    "_cell_guid": "b1076dfc-b9ad-4769-8c92-a6c4dae69d19",
    "_uuid": "8f2839f25d086af736a60e9eeb907d3b93b6e0e5",
    "execution": {
     "iopub.execute_input": "2022-10-03T06:43:35.276997Z",
     "iopub.status.busy": "2022-10-03T06:43:35.276386Z",
     "iopub.status.idle": "2022-10-03T06:43:35.289619Z",
     "shell.execute_reply": "2022-10-03T06:43:35.288515Z"
    },
    "papermill": {
     "duration": 0.027635,
     "end_time": "2022-10-03T06:43:35.292654",
     "exception": false,
     "start_time": "2022-10-03T06:43:35.265019",
     "status": "completed"
    },
    "tags": []
   },
   "outputs": [],
   "source": [
    "import pandas as pd\n",
    "import numpy as np\n",
    "import matplotlib.pyplot as plt"
   ]
  },
  {
   "cell_type": "code",
   "execution_count": 2,
   "id": "f635dd1c",
   "metadata": {
    "execution": {
     "iopub.execute_input": "2022-10-03T06:43:35.316320Z",
     "iopub.status.busy": "2022-10-03T06:43:35.315930Z",
     "iopub.status.idle": "2022-10-03T06:43:35.351941Z",
     "shell.execute_reply": "2022-10-03T06:43:35.350641Z"
    },
    "papermill": {
     "duration": 0.050656,
     "end_time": "2022-10-03T06:43:35.354709",
     "exception": false,
     "start_time": "2022-10-03T06:43:35.304053",
     "status": "completed"
    },
    "tags": []
   },
   "outputs": [
    {
     "data": {
      "text/plain": [
       "(927, 4)"
      ]
     },
     "execution_count": 2,
     "metadata": {},
     "output_type": "execute_result"
    }
   ],
   "source": [
    "df=pd.read_csv('../input/data-science-jobs-in-pakistan/indeed_jobs.csv')\n",
    "df.shape"
   ]
  },
  {
   "cell_type": "code",
   "execution_count": 3,
   "id": "9466ab80",
   "metadata": {
    "execution": {
     "iopub.execute_input": "2022-10-03T06:43:35.371981Z",
     "iopub.status.busy": "2022-10-03T06:43:35.371550Z",
     "iopub.status.idle": "2022-10-03T06:43:35.397588Z",
     "shell.execute_reply": "2022-10-03T06:43:35.396469Z"
    },
    "papermill": {
     "duration": 0.03803,
     "end_time": "2022-10-03T06:43:35.400552",
     "exception": false,
     "start_time": "2022-10-03T06:43:35.362522",
     "status": "completed"
    },
    "tags": []
   },
   "outputs": [
    {
     "data": {
      "text/html": [
       "<div>\n",
       "<style scoped>\n",
       "    .dataframe tbody tr th:only-of-type {\n",
       "        vertical-align: middle;\n",
       "    }\n",
       "\n",
       "    .dataframe tbody tr th {\n",
       "        vertical-align: top;\n",
       "    }\n",
       "\n",
       "    .dataframe thead th {\n",
       "        text-align: right;\n",
       "    }\n",
       "</style>\n",
       "<table border=\"1\" class=\"dataframe\">\n",
       "  <thead>\n",
       "    <tr style=\"text-align: right;\">\n",
       "      <th></th>\n",
       "      <th>job_title</th>\n",
       "      <th>job_company</th>\n",
       "      <th>job_location</th>\n",
       "      <th>job_summary</th>\n",
       "    </tr>\n",
       "  </thead>\n",
       "  <tbody>\n",
       "    <tr>\n",
       "      <th>0</th>\n",
       "      <td>Information Management Assistant</td>\n",
       "      <td>United Nations Pakistan</td>\n",
       "      <td>Pakistan</td>\n",
       "      <td>Assist in data cleaning and analysis by ensuri...</td>\n",
       "    </tr>\n",
       "    <tr>\n",
       "      <th>1</th>\n",
       "      <td>Data Scientist</td>\n",
       "      <td>Teradata</td>\n",
       "      <td>Islamabad</td>\n",
       "      <td>Experience in data analysis is a plus.Strong h...</td>\n",
       "    </tr>\n",
       "    <tr>\n",
       "      <th>2</th>\n",
       "      <td>Data Analyst</td>\n",
       "      <td>Aga Khan Health Service, Pakistan</td>\n",
       "      <td>Karachi</td>\n",
       "      <td>B.Sc. degree (or equivalent level of professio...</td>\n",
       "    </tr>\n",
       "    <tr>\n",
       "      <th>3</th>\n",
       "      <td>Data Processing Associate</td>\n",
       "      <td>GfK</td>\n",
       "      <td>Karachi</td>\n",
       "      <td>To suggest improvements in product data develo...</td>\n",
       "    </tr>\n",
       "    <tr>\n",
       "      <th>4</th>\n",
       "      <td>Front Line Manager</td>\n",
       "      <td>PepsiCo</td>\n",
       "      <td>Multan</td>\n",
       "      <td>Degree in either engineering or food science.E...</td>\n",
       "    </tr>\n",
       "  </tbody>\n",
       "</table>\n",
       "</div>"
      ],
      "text/plain": [
       "                          job_title                        job_company  \\\n",
       "0  Information Management Assistant            United Nations Pakistan   \n",
       "1                    Data Scientist                           Teradata   \n",
       "2                      Data Analyst  Aga Khan Health Service, Pakistan   \n",
       "3         Data Processing Associate                                GfK   \n",
       "4                Front Line Manager                            PepsiCo   \n",
       "\n",
       "  job_location                                        job_summary  \n",
       "0     Pakistan  Assist in data cleaning and analysis by ensuri...  \n",
       "1    Islamabad  Experience in data analysis is a plus.Strong h...  \n",
       "2      Karachi  B.Sc. degree (or equivalent level of professio...  \n",
       "3      Karachi  To suggest improvements in product data develo...  \n",
       "4       Multan  Degree in either engineering or food science.E...  "
      ]
     },
     "execution_count": 3,
     "metadata": {},
     "output_type": "execute_result"
    }
   ],
   "source": [
    "df.head()"
   ]
  },
  {
   "cell_type": "code",
   "execution_count": 4,
   "id": "cbb3863a",
   "metadata": {
    "execution": {
     "iopub.execute_input": "2022-10-03T06:43:35.420021Z",
     "iopub.status.busy": "2022-10-03T06:43:35.419593Z",
     "iopub.status.idle": "2022-10-03T06:43:35.444129Z",
     "shell.execute_reply": "2022-10-03T06:43:35.443320Z"
    },
    "papermill": {
     "duration": 0.037804,
     "end_time": "2022-10-03T06:43:35.447840",
     "exception": false,
     "start_time": "2022-10-03T06:43:35.410036",
     "status": "completed"
    },
    "tags": []
   },
   "outputs": [
    {
     "data": {
      "text/html": [
       "<div>\n",
       "<style scoped>\n",
       "    .dataframe tbody tr th:only-of-type {\n",
       "        vertical-align: middle;\n",
       "    }\n",
       "\n",
       "    .dataframe tbody tr th {\n",
       "        vertical-align: top;\n",
       "    }\n",
       "\n",
       "    .dataframe thead th {\n",
       "        text-align: right;\n",
       "    }\n",
       "</style>\n",
       "<table border=\"1\" class=\"dataframe\">\n",
       "  <thead>\n",
       "    <tr style=\"text-align: right;\">\n",
       "      <th></th>\n",
       "      <th>job_title</th>\n",
       "      <th>job_company</th>\n",
       "      <th>job_location</th>\n",
       "      <th>job_summary</th>\n",
       "    </tr>\n",
       "  </thead>\n",
       "  <tbody>\n",
       "    <tr>\n",
       "      <th>count</th>\n",
       "      <td>927</td>\n",
       "      <td>927</td>\n",
       "      <td>927</td>\n",
       "      <td>927</td>\n",
       "    </tr>\n",
       "    <tr>\n",
       "      <th>unique</th>\n",
       "      <td>661</td>\n",
       "      <td>423</td>\n",
       "      <td>27</td>\n",
       "      <td>746</td>\n",
       "    </tr>\n",
       "    <tr>\n",
       "      <th>top</th>\n",
       "      <td>iOS Developer</td>\n",
       "      <td>S&amp;P Global</td>\n",
       "      <td>Karachi</td>\n",
       "      <td>Have experience with best-in-class client-side...</td>\n",
       "    </tr>\n",
       "    <tr>\n",
       "      <th>freq</th>\n",
       "      <td>21</td>\n",
       "      <td>27</td>\n",
       "      <td>301</td>\n",
       "      <td>26</td>\n",
       "    </tr>\n",
       "  </tbody>\n",
       "</table>\n",
       "</div>"
      ],
      "text/plain": [
       "            job_title job_company job_location  \\\n",
       "count             927         927          927   \n",
       "unique            661         423           27   \n",
       "top     iOS Developer  S&P Global      Karachi   \n",
       "freq               21          27          301   \n",
       "\n",
       "                                              job_summary  \n",
       "count                                                 927  \n",
       "unique                                                746  \n",
       "top     Have experience with best-in-class client-side...  \n",
       "freq                                                   26  "
      ]
     },
     "execution_count": 4,
     "metadata": {},
     "output_type": "execute_result"
    }
   ],
   "source": [
    "df.describe(include='all')"
   ]
  },
  {
   "cell_type": "code",
   "execution_count": 5,
   "id": "5bc8d499",
   "metadata": {
    "execution": {
     "iopub.execute_input": "2022-10-03T06:43:35.474950Z",
     "iopub.status.busy": "2022-10-03T06:43:35.474273Z",
     "iopub.status.idle": "2022-10-03T06:43:35.482557Z",
     "shell.execute_reply": "2022-10-03T06:43:35.481471Z"
    },
    "papermill": {
     "duration": 0.025005,
     "end_time": "2022-10-03T06:43:35.485552",
     "exception": false,
     "start_time": "2022-10-03T06:43:35.460547",
     "status": "completed"
    },
    "tags": []
   },
   "outputs": [
    {
     "data": {
      "text/plain": [
       "job_title       0\n",
       "job_company     0\n",
       "job_location    0\n",
       "job_summary     0\n",
       "dtype: int64"
      ]
     },
     "execution_count": 5,
     "metadata": {},
     "output_type": "execute_result"
    }
   ],
   "source": [
    "df.isnull().sum()"
   ]
  },
  {
   "cell_type": "code",
   "execution_count": 6,
   "id": "8244cb26",
   "metadata": {
    "execution": {
     "iopub.execute_input": "2022-10-03T06:43:35.510049Z",
     "iopub.status.busy": "2022-10-03T06:43:35.509645Z",
     "iopub.status.idle": "2022-10-03T06:43:35.517876Z",
     "shell.execute_reply": "2022-10-03T06:43:35.516673Z"
    },
    "papermill": {
     "duration": 0.020405,
     "end_time": "2022-10-03T06:43:35.520354",
     "exception": false,
     "start_time": "2022-10-03T06:43:35.499949",
     "status": "completed"
    },
    "tags": []
   },
   "outputs": [
    {
     "data": {
      "text/plain": [
       "job_title       object\n",
       "job_company     object\n",
       "job_location    object\n",
       "job_summary     object\n",
       "dtype: object"
      ]
     },
     "execution_count": 6,
     "metadata": {},
     "output_type": "execute_result"
    }
   ],
   "source": [
    "df.dtypes"
   ]
  },
  {
   "cell_type": "code",
   "execution_count": 7,
   "id": "b9c1515e",
   "metadata": {
    "execution": {
     "iopub.execute_input": "2022-10-03T06:43:35.538946Z",
     "iopub.status.busy": "2022-10-03T06:43:35.538550Z",
     "iopub.status.idle": "2022-10-03T06:43:35.546799Z",
     "shell.execute_reply": "2022-10-03T06:43:35.545976Z"
    },
    "papermill": {
     "duration": 0.019939,
     "end_time": "2022-10-03T06:43:35.548804",
     "exception": false,
     "start_time": "2022-10-03T06:43:35.528865",
     "status": "completed"
    },
    "tags": []
   },
   "outputs": [
    {
     "data": {
      "text/plain": [
       "array(['Pakistan', 'Islamabad', 'Karachi', 'Multan', 'Lahore', 'Quetta',\n",
       "       'Rawalpindi', 'Peshawar', 'Lahore+1 location', 'Hyderabad',\n",
       "       'Sargodha', 'Lahore+2 locations', 'Sialkot', 'Khyber-Pakhtunkhwa',\n",
       "       'Punjab', 'Mirpur Khas', 'Multan+16 locations', 'Faisalabad',\n",
       "       'Islamabad+3 locations', 'Islamabad+1 location',\n",
       "       'Rawalpindi+1 location', 'Multan+1 location', 'Abbottabad',\n",
       "       'Mirpur', 'Larkana', 'Bahawalpur', 'Rawalpindi+2 locations'],\n",
       "      dtype=object)"
      ]
     },
     "execution_count": 7,
     "metadata": {},
     "output_type": "execute_result"
    }
   ],
   "source": [
    "df['job_location'].unique()"
   ]
  },
  {
   "cell_type": "markdown",
   "id": "959604a3",
   "metadata": {
    "papermill": {
     "duration": 0.0086,
     "end_time": "2022-10-03T06:43:35.566060",
     "exception": false,
     "start_time": "2022-10-03T06:43:35.557460",
     "status": "completed"
    },
    "tags": []
   },
   "source": [
    "# EDA"
   ]
  },
  {
   "cell_type": "markdown",
   "id": "d8aff924",
   "metadata": {
    "papermill": {
     "duration": 0.008103,
     "end_time": "2022-10-03T06:43:35.582587",
     "exception": false,
     "start_time": "2022-10-03T06:43:35.574484",
     "status": "completed"
    },
    "tags": []
   },
   "source": [
    "## Cities with more jobs"
   ]
  },
  {
   "cell_type": "code",
   "execution_count": 8,
   "id": "df927985",
   "metadata": {
    "execution": {
     "iopub.execute_input": "2022-10-03T06:43:35.601512Z",
     "iopub.status.busy": "2022-10-03T06:43:35.600656Z",
     "iopub.status.idle": "2022-10-03T06:43:35.617038Z",
     "shell.execute_reply": "2022-10-03T06:43:35.615862Z"
    },
    "papermill": {
     "duration": 0.028478,
     "end_time": "2022-10-03T06:43:35.619408",
     "exception": false,
     "start_time": "2022-10-03T06:43:35.590930",
     "status": "completed"
    },
    "tags": []
   },
   "outputs": [
    {
     "data": {
      "text/html": [
       "<div>\n",
       "<style scoped>\n",
       "    .dataframe tbody tr th:only-of-type {\n",
       "        vertical-align: middle;\n",
       "    }\n",
       "\n",
       "    .dataframe tbody tr th {\n",
       "        vertical-align: top;\n",
       "    }\n",
       "\n",
       "    .dataframe thead th {\n",
       "        text-align: right;\n",
       "    }\n",
       "</style>\n",
       "<table border=\"1\" class=\"dataframe\">\n",
       "  <thead>\n",
       "    <tr style=\"text-align: right;\">\n",
       "      <th></th>\n",
       "      <th>job_title</th>\n",
       "    </tr>\n",
       "    <tr>\n",
       "      <th>job_location</th>\n",
       "      <th></th>\n",
       "    </tr>\n",
       "  </thead>\n",
       "  <tbody>\n",
       "    <tr>\n",
       "      <th>Islamabad</th>\n",
       "      <td>241</td>\n",
       "    </tr>\n",
       "    <tr>\n",
       "      <th>Karachi</th>\n",
       "      <td>301</td>\n",
       "    </tr>\n",
       "    <tr>\n",
       "      <th>Lahore</th>\n",
       "      <td>251</td>\n",
       "    </tr>\n",
       "    <tr>\n",
       "      <th>Pakistan</th>\n",
       "      <td>45</td>\n",
       "    </tr>\n",
       "    <tr>\n",
       "      <th>Rawalpindi</th>\n",
       "      <td>35</td>\n",
       "    </tr>\n",
       "  </tbody>\n",
       "</table>\n",
       "</div>"
      ],
      "text/plain": [
       "              job_title\n",
       "job_location           \n",
       "Islamabad           241\n",
       "Karachi             301\n",
       "Lahore              251\n",
       "Pakistan             45\n",
       "Rawalpindi           35"
      ]
     },
     "execution_count": 8,
     "metadata": {},
     "output_type": "execute_result"
    }
   ],
   "source": [
    "location = df.groupby(\"job_location\").count()\n",
    "more_than_10_jobs = location.loc[location[\"job_title\"] > 10]\n",
    "more_than_10_jobs = more_than_10_jobs[[\"job_title\"]]\n",
    "more_than_10_jobs.rename(columns = {\"Job Title\":\"Jobs\"}, inplace = True)\n",
    "more_than_10_jobs"
   ]
  },
  {
   "cell_type": "code",
   "execution_count": 9,
   "id": "d0610306",
   "metadata": {
    "execution": {
     "iopub.execute_input": "2022-10-03T06:43:35.639923Z",
     "iopub.status.busy": "2022-10-03T06:43:35.638800Z",
     "iopub.status.idle": "2022-10-03T06:43:35.650535Z",
     "shell.execute_reply": "2022-10-03T06:43:35.649386Z"
    },
    "papermill": {
     "duration": 0.023952,
     "end_time": "2022-10-03T06:43:35.652768",
     "exception": false,
     "start_time": "2022-10-03T06:43:35.628816",
     "status": "completed"
    },
    "tags": []
   },
   "outputs": [
    {
     "data": {
      "text/html": [
       "<div>\n",
       "<style scoped>\n",
       "    .dataframe tbody tr th:only-of-type {\n",
       "        vertical-align: middle;\n",
       "    }\n",
       "\n",
       "    .dataframe tbody tr th {\n",
       "        vertical-align: top;\n",
       "    }\n",
       "\n",
       "    .dataframe thead th {\n",
       "        text-align: right;\n",
       "    }\n",
       "</style>\n",
       "<table border=\"1\" class=\"dataframe\">\n",
       "  <thead>\n",
       "    <tr style=\"text-align: right;\">\n",
       "      <th></th>\n",
       "      <th>job_title</th>\n",
       "    </tr>\n",
       "    <tr>\n",
       "      <th>job_location</th>\n",
       "      <th></th>\n",
       "    </tr>\n",
       "  </thead>\n",
       "  <tbody>\n",
       "    <tr>\n",
       "      <th>Karachi</th>\n",
       "      <td>301</td>\n",
       "    </tr>\n",
       "    <tr>\n",
       "      <th>Lahore</th>\n",
       "      <td>251</td>\n",
       "    </tr>\n",
       "    <tr>\n",
       "      <th>Islamabad</th>\n",
       "      <td>241</td>\n",
       "    </tr>\n",
       "    <tr>\n",
       "      <th>Pakistan</th>\n",
       "      <td>45</td>\n",
       "    </tr>\n",
       "    <tr>\n",
       "      <th>Rawalpindi</th>\n",
       "      <td>35</td>\n",
       "    </tr>\n",
       "    <tr>\n",
       "      <th>Islamabad+1 location</th>\n",
       "      <td>9</td>\n",
       "    </tr>\n",
       "    <tr>\n",
       "      <th>Lahore+1 location</th>\n",
       "      <td>7</td>\n",
       "    </tr>\n",
       "    <tr>\n",
       "      <th>Faisalabad</th>\n",
       "      <td>6</td>\n",
       "    </tr>\n",
       "    <tr>\n",
       "      <th>Rawalpindi+1 location</th>\n",
       "      <td>4</td>\n",
       "    </tr>\n",
       "    <tr>\n",
       "      <th>Multan</th>\n",
       "      <td>3</td>\n",
       "    </tr>\n",
       "    <tr>\n",
       "      <th>Peshawar</th>\n",
       "      <td>3</td>\n",
       "    </tr>\n",
       "    <tr>\n",
       "      <th>Islamabad+3 locations</th>\n",
       "      <td>3</td>\n",
       "    </tr>\n",
       "    <tr>\n",
       "      <th>Lahore+2 locations</th>\n",
       "      <td>2</td>\n",
       "    </tr>\n",
       "    <tr>\n",
       "      <th>Khyber-Pakhtunkhwa</th>\n",
       "      <td>2</td>\n",
       "    </tr>\n",
       "    <tr>\n",
       "      <th>Quetta</th>\n",
       "      <td>2</td>\n",
       "    </tr>\n",
       "    <tr>\n",
       "      <th>Hyderabad</th>\n",
       "      <td>2</td>\n",
       "    </tr>\n",
       "    <tr>\n",
       "      <th>Sargodha</th>\n",
       "      <td>1</td>\n",
       "    </tr>\n",
       "    <tr>\n",
       "      <th>Rawalpindi+2 locations</th>\n",
       "      <td>1</td>\n",
       "    </tr>\n",
       "    <tr>\n",
       "      <th>Punjab</th>\n",
       "      <td>1</td>\n",
       "    </tr>\n",
       "    <tr>\n",
       "      <th>Abbottabad</th>\n",
       "      <td>1</td>\n",
       "    </tr>\n",
       "    <tr>\n",
       "      <th>Mirpur</th>\n",
       "      <td>1</td>\n",
       "    </tr>\n",
       "    <tr>\n",
       "      <th>Multan+16 locations</th>\n",
       "      <td>1</td>\n",
       "    </tr>\n",
       "    <tr>\n",
       "      <th>Multan+1 location</th>\n",
       "      <td>1</td>\n",
       "    </tr>\n",
       "    <tr>\n",
       "      <th>Mirpur Khas</th>\n",
       "      <td>1</td>\n",
       "    </tr>\n",
       "    <tr>\n",
       "      <th>Bahawalpur</th>\n",
       "      <td>1</td>\n",
       "    </tr>\n",
       "    <tr>\n",
       "      <th>Larkana</th>\n",
       "      <td>1</td>\n",
       "    </tr>\n",
       "    <tr>\n",
       "      <th>Sialkot</th>\n",
       "      <td>1</td>\n",
       "    </tr>\n",
       "  </tbody>\n",
       "</table>\n",
       "</div>"
      ],
      "text/plain": [
       "                        job_title\n",
       "job_location                     \n",
       "Karachi                       301\n",
       "Lahore                        251\n",
       "Islamabad                     241\n",
       "Pakistan                       45\n",
       "Rawalpindi                     35\n",
       "Islamabad+1 location            9\n",
       "Lahore+1 location               7\n",
       "Faisalabad                      6\n",
       "Rawalpindi+1 location           4\n",
       "Multan                          3\n",
       "Peshawar                        3\n",
       "Islamabad+3 locations           3\n",
       "Lahore+2 locations              2\n",
       "Khyber-Pakhtunkhwa              2\n",
       "Quetta                          2\n",
       "Hyderabad                       2\n",
       "Sargodha                        1\n",
       "Rawalpindi+2 locations          1\n",
       "Punjab                          1\n",
       "Abbottabad                      1\n",
       "Mirpur                          1\n",
       "Multan+16 locations             1\n",
       "Multan+1 location               1\n",
       "Mirpur Khas                     1\n",
       "Bahawalpur                      1\n",
       "Larkana                         1\n",
       "Sialkot                         1"
      ]
     },
     "execution_count": 9,
     "metadata": {},
     "output_type": "execute_result"
    }
   ],
   "source": [
    "location[[\"job_title\"]].sort_values(by = \"job_title\", ascending = False)"
   ]
  },
  {
   "cell_type": "code",
   "execution_count": 10,
   "id": "a19f0467",
   "metadata": {
    "execution": {
     "iopub.execute_input": "2022-10-03T06:43:35.672470Z",
     "iopub.status.busy": "2022-10-03T06:43:35.672055Z",
     "iopub.status.idle": "2022-10-03T06:43:36.070333Z",
     "shell.execute_reply": "2022-10-03T06:43:36.069227Z"
    },
    "papermill": {
     "duration": 0.411012,
     "end_time": "2022-10-03T06:43:36.072743",
     "exception": false,
     "start_time": "2022-10-03T06:43:35.661731",
     "status": "completed"
    },
    "tags": []
   },
   "outputs": [
    {
     "data": {
      "image/png": "[encoded data removed]",
      "text/plain": [
       "<Figure size 1368x576 with 1 Axes>"
      ]
     },
     "metadata": {
      "needs_background": "light"
     },
     "output_type": "display_data"
    }
   ],
   "source": [
    "plt.rcParams['figure.figsize'] = (19, 8)\n",
    "df['job_location'].value_counts().sort_values(ascending = False).head(20).plot.bar(color = 'cyan')\n",
    "plt.title(\"Most Jobs Providing Cities\", fontsize = 20)\n",
    "plt.xlabel('Cities', fontsize = 15)\n",
    "plt.ylabel('count', fontsize = 15)\n",
    "plt.show()"
   ]
  },
  {
   "cell_type": "markdown",
   "id": "07be8492",
   "metadata": {
    "papermill": {
     "duration": 0.009729,
     "end_time": "2022-10-03T06:43:36.092082",
     "exception": false,
     "start_time": "2022-10-03T06:43:36.082353",
     "status": "completed"
    },
    "tags": []
   },
   "source": [
    "## Most demanding fields"
   ]
  },
  {
   "cell_type": "code",
   "execution_count": 11,
   "id": "8d34f468",
   "metadata": {
    "execution": {
     "iopub.execute_input": "2022-10-03T06:43:36.112567Z",
     "iopub.status.busy": "2022-10-03T06:43:36.112192Z",
     "iopub.status.idle": "2022-10-03T06:43:36.531574Z",
     "shell.execute_reply": "2022-10-03T06:43:36.530415Z"
    },
    "papermill": {
     "duration": 0.432892,
     "end_time": "2022-10-03T06:43:36.534394",
     "exception": false,
     "start_time": "2022-10-03T06:43:36.101502",
     "status": "completed"
    },
    "tags": []
   },
   "outputs": [
    {
     "data": {
      "image/png": "[encoded data removed]",
      "text/plain": [
       "<Figure size 1368x576 with 1 Axes>"
      ]
     },
     "metadata": {
      "needs_background": "light"
     },
     "output_type": "display_data"
    }
   ],
   "source": [
    "plt.rcParams['figure.figsize'] = (19, 8)\n",
    "df['job_title'].value_counts().sort_values(ascending = False).head(20).plot.bar(color = 'cyan')\n",
    "plt.title(\"Top 20 Popular Jobs\", fontsize = 20)\n",
    "plt.xlabel('Job Title', fontsize = 15)\n",
    "plt.ylabel('count', fontsize = 15)\n",
    "plt.show()"
   ]
  },
  {
   "cell_type": "markdown",
   "id": "327e8d59",
   "metadata": {
    "papermill": {
     "duration": 0.010207,
     "end_time": "2022-10-03T06:43:36.555144",
     "exception": false,
     "start_time": "2022-10-03T06:43:36.544937",
     "status": "completed"
    },
    "tags": []
   },
   "source": [
    "## Top Recruiting Companies"
   ]
  },
  {
   "cell_type": "code",
   "execution_count": 12,
   "id": "e565a892",
   "metadata": {
    "execution": {
     "iopub.execute_input": "2022-10-03T06:43:36.578251Z",
     "iopub.status.busy": "2022-10-03T06:43:36.577544Z",
     "iopub.status.idle": "2022-10-03T06:43:36.925699Z",
     "shell.execute_reply": "2022-10-03T06:43:36.924585Z"
    },
    "papermill": {
     "duration": 0.362784,
     "end_time": "2022-10-03T06:43:36.928317",
     "exception": false,
     "start_time": "2022-10-03T06:43:36.565533",
     "status": "completed"
    },
    "tags": []
   },
   "outputs": [
    {
     "data": {
      "image/png": "[encoded data removed]",
      "text/plain": [
       "<Figure size 1368x576 with 1 Axes>"
      ]
     },
     "metadata": {
      "needs_background": "light"
     },
     "output_type": "display_data"
    }
   ],
   "source": [
    "plt.rcParams['figure.figsize'] = (19, 8)\n",
    "df['job_company'].value_counts().sort_values(ascending = False).head(20).plot.bar(color = 'cyan')\n",
    "plt.title(\"Most Jobs Providing Companies\", fontsize = 20)\n",
    "plt.xlabel('Companies', fontsize = 15)\n",
    "plt.ylabel('count', fontsize = 15)\n",
    "plt.show()"
   ]
  },
  {
   "cell_type": "markdown",
   "id": "387e0aa2",
   "metadata": {
    "papermill": {
     "duration": 0.010709,
     "end_time": "2022-10-03T06:43:36.950288",
     "exception": false,
     "start_time": "2022-10-03T06:43:36.939579",
     "status": "completed"
    },
    "tags": []
   },
   "source": [
    "## Word Clouds"
   ]
  },
  {
   "cell_type": "code",
   "execution_count": 13,
   "id": "fa980179",
   "metadata": {
    "execution": {
     "iopub.execute_input": "2022-10-03T06:43:36.974206Z",
     "iopub.status.busy": "2022-10-03T06:43:36.973816Z",
     "iopub.status.idle": "2022-10-03T06:43:37.417867Z",
     "shell.execute_reply": "2022-10-03T06:43:37.416470Z"
    },
    "papermill": {
     "duration": 0.45926,
     "end_time": "2022-10-03T06:43:37.420500",
     "exception": false,
     "start_time": "2022-10-03T06:43:36.961240",
     "status": "completed"
    },
    "tags": []
   },
   "outputs": [
    {
     "name": "stdout",
     "output_type": "stream",
     "text": [
      "<wordcloud.wordcloud.WordCloud object at 0x7fc0380b8110>\n"
     ]
    },
    {
     "data": {
      "image/png": "[encoded data removed]",
      "text/plain": [
       "<Figure size 576x576 with 1 Axes>"
      ]
     },
     "metadata": {
      "needs_background": "light"
     },
     "output_type": "display_data"
    }
   ],
   "source": [
    "from wordcloud import WordCloud\n",
    "from wordcloud import STOPWORDS\n",
    "\n",
    "stopwords = set(STOPWORDS)\n",
    "wordcloud = WordCloud(background_color = 'white').generate(str(df['job_title']))\n",
    "\n",
    "print(wordcloud)\n",
    "plt.rcParams['figure.figsize'] = (8,8)\n",
    "plt.axis('off')\n",
    "plt.imshow(wordcloud)\n",
    "plt.title('Most frequent Job Titles', fontsize = 20)\n",
    "plt.show()"
   ]
  },
  {
   "cell_type": "code",
   "execution_count": 14,
   "id": "19569603",
   "metadata": {
    "execution": {
     "iopub.execute_input": "2022-10-03T06:43:37.448597Z",
     "iopub.status.busy": "2022-10-03T06:43:37.447473Z",
     "iopub.status.idle": "2022-10-03T06:43:37.670725Z",
     "shell.execute_reply": "2022-10-03T06:43:37.669556Z"
    },
    "papermill": {
     "duration": 0.240015,
     "end_time": "2022-10-03T06:43:37.673353",
     "exception": false,
     "start_time": "2022-10-03T06:43:37.433338",
     "status": "completed"
    },
    "tags": []
   },
   "outputs": [
    {
     "name": "stdout",
     "output_type": "stream",
     "text": [
      "<wordcloud.wordcloud.WordCloud object at 0x7fc038268190>\n"
     ]
    },
    {
     "data": {
      "image/png": "[encoded data removed]",
      "text/plain": [
       "<Figure size 576x576 with 1 Axes>"
      ]
     },
     "metadata": {
      "needs_background": "light"
     },
     "output_type": "display_data"
    }
   ],
   "source": [
    "wordcloud = WordCloud(background_color = 'white').generate(str(df['job_location']))\n",
    "\n",
    "print(wordcloud)\n",
    "plt.rcParams['figure.figsize'] = (8, 8)\n",
    "plt.axis('off')\n",
    "plt.imshow(wordcloud)\n",
    "plt.title('Places with Most Jobs', fontsize = 20)\n",
    "plt.show()"
   ]
  },
  {
   "cell_type": "markdown",
   "id": "8e100031",
   "metadata": {
    "papermill": {
     "duration": 0.013891,
     "end_time": "2022-10-03T06:43:37.701714",
     "exception": false,
     "start_time": "2022-10-03T06:43:37.687823",
     "status": "completed"
    },
    "tags": []
   },
   "source": [
    "# Model Development"
   ]
  },
  {
   "cell_type": "code",
   "execution_count": 15,
   "id": "b09e5f4b",
   "metadata": {
    "execution": {
     "iopub.execute_input": "2022-10-03T06:43:37.731981Z",
     "iopub.status.busy": "2022-10-03T06:43:37.731219Z",
     "iopub.status.idle": "2022-10-03T06:43:39.410469Z",
     "shell.execute_reply": "2022-10-03T06:43:39.409147Z"
    },
    "papermill": {
     "duration": 1.697638,
     "end_time": "2022-10-03T06:43:39.413328",
     "exception": false,
     "start_time": "2022-10-03T06:43:37.715690",
     "status": "completed"
    },
    "tags": []
   },
   "outputs": [],
   "source": [
    "import string\n",
    "from nltk import ngrams\n",
    "from nltk.tokenize import word_tokenize\n",
    "from nltk.corpus import stopwords\n",
    "from nltk.tokenize import RegexpTokenizer\n",
    "from sklearn import svm\n",
    "from sklearn.metrics import accuracy_score, confusion_matrix\n",
    "from sklearn.utils.multiclass import unique_labels\n",
    "from sklearn.preprocessing import LabelEncoder\n",
    "from sklearn.feature_extraction.text import TfidfVectorizer, CountVectorizer\n",
    "from sklearn.decomposition import PCA\n",
    "from sklearn.manifold import TSNE"
   ]
  },
  {
   "cell_type": "code",
   "execution_count": 16,
   "id": "0693b858",
   "metadata": {
    "execution": {
     "iopub.execute_input": "2022-10-03T06:43:39.443976Z",
     "iopub.status.busy": "2022-10-03T06:43:39.443551Z",
     "iopub.status.idle": "2022-10-03T06:43:39.455364Z",
     "shell.execute_reply": "2022-10-03T06:43:39.454387Z"
    },
    "papermill": {
     "duration": 0.030052,
     "end_time": "2022-10-03T06:43:39.457704",
     "exception": false,
     "start_time": "2022-10-03T06:43:39.427652",
     "status": "completed"
    },
    "tags": []
   },
   "outputs": [],
   "source": [
    "tokenizer = RegexpTokenizer(r'\\w+')\n",
    "stop_words = stopwords.words('english')"
   ]
  },
  {
   "cell_type": "code",
   "execution_count": 17,
   "id": "9f770d29",
   "metadata": {
    "execution": {
     "iopub.execute_input": "2022-10-03T06:43:39.487671Z",
     "iopub.status.busy": "2022-10-03T06:43:39.487007Z",
     "iopub.status.idle": "2022-10-03T06:43:39.621734Z",
     "shell.execute_reply": "2022-10-03T06:43:39.620070Z"
    },
    "papermill": {
     "duration": 0.153977,
     "end_time": "2022-10-03T06:43:39.625636",
     "exception": false,
     "start_time": "2022-10-03T06:43:39.471659",
     "status": "completed"
    },
    "tags": []
   },
   "outputs": [
    {
     "name": "stderr",
     "output_type": "stream",
     "text": [
      "/opt/conda/lib/python3.7/site-packages/ipykernel_launcher.py:4: FutureWarning: The default value of regex will change from True to False in a future version.\n",
      "  after removing the cwd from sys.path.\n"
     ]
    },
    {
     "data": {
      "text/html": [
       "<div>\n",
       "<style scoped>\n",
       "    .dataframe tbody tr th:only-of-type {\n",
       "        vertical-align: middle;\n",
       "    }\n",
       "\n",
       "    .dataframe tbody tr th {\n",
       "        vertical-align: top;\n",
       "    }\n",
       "\n",
       "    .dataframe thead th {\n",
       "        text-align: right;\n",
       "    }\n",
       "</style>\n",
       "<table border=\"1\" class=\"dataframe\">\n",
       "  <thead>\n",
       "    <tr style=\"text-align: right;\">\n",
       "      <th></th>\n",
       "      <th>job_title</th>\n",
       "      <th>job_company</th>\n",
       "      <th>job_location</th>\n",
       "      <th>job_summary</th>\n",
       "      <th>Text_1</th>\n",
       "      <th>Text_2</th>\n",
       "      <th>Tokens</th>\n",
       "      <th>Tokens_1</th>\n",
       "      <th>Text_3</th>\n",
       "      <th>Tokens_2</th>\n",
       "    </tr>\n",
       "  </thead>\n",
       "  <tbody>\n",
       "    <tr>\n",
       "      <th>0</th>\n",
       "      <td>Information Management Assistant</td>\n",
       "      <td>United Nations Pakistan</td>\n",
       "      <td>Pakistan</td>\n",
       "      <td>Assist in data cleaning and analysis by ensuri...</td>\n",
       "      <td>assist in data cleaning and analysis by ensuri...</td>\n",
       "      <td>assist in data cleaning and analysis by ensuri...</td>\n",
       "      <td>[assist, in, data, cleaning, and, analysis, by...</td>\n",
       "      <td>[assist, data, cleaning, analysis, ensuring, d...</td>\n",
       "      <td>assist data cleaning analysis ensuring data co...</td>\n",
       "      <td>[(assist, data), (data, cleaning), (cleaning, ...</td>\n",
       "    </tr>\n",
       "    <tr>\n",
       "      <th>1</th>\n",
       "      <td>Data Scientist</td>\n",
       "      <td>Teradata</td>\n",
       "      <td>Islamabad</td>\n",
       "      <td>Experience in data analysis is a plus.Strong h...</td>\n",
       "      <td>experience in data analysis is a plus.strong h...</td>\n",
       "      <td>experience in data analysis is a plus.strong h...</td>\n",
       "      <td>[experience, in, data, analysis, is, a, plus, ...</td>\n",
       "      <td>[experience, data, analysis, plus, strong, han...</td>\n",
       "      <td>experience data analysis plus strong hands dat...</td>\n",
       "      <td>[(experience, data), (data, analysis), (analys...</td>\n",
       "    </tr>\n",
       "    <tr>\n",
       "      <th>2</th>\n",
       "      <td>Data Analyst</td>\n",
       "      <td>Aga Khan Health Service, Pakistan</td>\n",
       "      <td>Karachi</td>\n",
       "      <td>B.Sc. degree (or equivalent level of professio...</td>\n",
       "      <td>b.sc. degree (or equivalent level of professio...</td>\n",
       "      <td>b.sc. degree (or equivalent level of professio...</td>\n",
       "      <td>[b, sc, degree, or, equivalent, level, of, pro...</td>\n",
       "      <td>[b, sc, degree, equivalent, level, professiona...</td>\n",
       "      <td>b sc degree equivalent level professional expe...</td>\n",
       "      <td>[(b, sc), (sc, degree), (degree, equivalent), ...</td>\n",
       "    </tr>\n",
       "    <tr>\n",
       "      <th>3</th>\n",
       "      <td>Data Processing Associate</td>\n",
       "      <td>GfK</td>\n",
       "      <td>Karachi</td>\n",
       "      <td>To suggest improvements in product data develo...</td>\n",
       "      <td>to suggest improvements in product data develo...</td>\n",
       "      <td>to suggest improvements in product data develo...</td>\n",
       "      <td>[to, suggest, improvements, in, product, data,...</td>\n",
       "      <td>[suggest, improvements, product, data, develop...</td>\n",
       "      <td>suggest improvements product data development ...</td>\n",
       "      <td>[(suggest, improvements), (improvements, produ...</td>\n",
       "    </tr>\n",
       "    <tr>\n",
       "      <th>4</th>\n",
       "      <td>Front Line Manager</td>\n",
       "      <td>PepsiCo</td>\n",
       "      <td>Multan</td>\n",
       "      <td>Degree in either engineering or food science.E...</td>\n",
       "      <td>degree in either engineering or food science.e...</td>\n",
       "      <td>degree in either engineering or food science.e...</td>\n",
       "      <td>[degree, in, either, engineering, or, food, sc...</td>\n",
       "      <td>[degree, either, engineering, food, science, e...</td>\n",
       "      <td>degree either engineering food science ensures...</td>\n",
       "      <td>[(degree, either), (either, engineering), (eng...</td>\n",
       "    </tr>\n",
       "  </tbody>\n",
       "</table>\n",
       "</div>"
      ],
      "text/plain": [
       "                          job_title                        job_company  \\\n",
       "0  Information Management Assistant            United Nations Pakistan   \n",
       "1                    Data Scientist                           Teradata   \n",
       "2                      Data Analyst  Aga Khan Health Service, Pakistan   \n",
       "3         Data Processing Associate                                GfK   \n",
       "4                Front Line Manager                            PepsiCo   \n",
       "\n",
       "  job_location                                        job_summary  \\\n",
       "0     Pakistan  Assist in data cleaning and analysis by ensuri...   \n",
       "1    Islamabad  Experience in data analysis is a plus.Strong h...   \n",
       "2      Karachi  B.Sc. degree (or equivalent level of professio...   \n",
       "3      Karachi  To suggest improvements in product data develo...   \n",
       "4       Multan  Degree in either engineering or food science.E...   \n",
       "\n",
       "                                              Text_1  \\\n",
       "0  assist in data cleaning and analysis by ensuri...   \n",
       "1  experience in data analysis is a plus.strong h...   \n",
       "2  b.sc. degree (or equivalent level of professio...   \n",
       "3  to suggest improvements in product data develo...   \n",
       "4  degree in either engineering or food science.e...   \n",
       "\n",
       "                                              Text_2  \\\n",
       "0  assist in data cleaning and analysis by ensuri...   \n",
       "1  experience in data analysis is a plus.strong h...   \n",
       "2  b.sc. degree (or equivalent level of professio...   \n",
       "3  to suggest improvements in product data develo...   \n",
       "4  degree in either engineering or food science.e...   \n",
       "\n",
       "                                              Tokens  \\\n",
       "0  [assist, in, data, cleaning, and, analysis, by...   \n",
       "1  [experience, in, data, analysis, is, a, plus, ...   \n",
       "2  [b, sc, degree, or, equivalent, level, of, pro...   \n",
       "3  [to, suggest, improvements, in, product, data,...   \n",
       "4  [degree, in, either, engineering, or, food, sc...   \n",
       "\n",
       "                                            Tokens_1  \\\n",
       "0  [assist, data, cleaning, analysis, ensuring, d...   \n",
       "1  [experience, data, analysis, plus, strong, han...   \n",
       "2  [b, sc, degree, equivalent, level, professiona...   \n",
       "3  [suggest, improvements, product, data, develop...   \n",
       "4  [degree, either, engineering, food, science, e...   \n",
       "\n",
       "                                              Text_3  \\\n",
       "0  assist data cleaning analysis ensuring data co...   \n",
       "1  experience data analysis plus strong hands dat...   \n",
       "2  b sc degree equivalent level professional expe...   \n",
       "3  suggest improvements product data development ...   \n",
       "4  degree either engineering food science ensures...   \n",
       "\n",
       "                                            Tokens_2  \n",
       "0  [(assist, data), (data, cleaning), (cleaning, ...  \n",
       "1  [(experience, data), (data, analysis), (analys...  \n",
       "2  [(b, sc), (sc, degree), (degree, equivalent), ...  \n",
       "3  [(suggest, improvements), (improvements, produ...  \n",
       "4  [(degree, either), (either, engineering), (eng...  "
      ]
     },
     "execution_count": 17,
     "metadata": {},
     "output_type": "execute_result"
    }
   ],
   "source": [
    "#lowercase\n",
    "df[\"Text_1\"] = df.job_summary.str.lower()\n",
    "#remove \\n\n",
    "df[\"Text_2\"] = df.Text_1.str.replace(\"\\\\n\", \" \")\n",
    "#remove punctuation and tokenize\n",
    "df[\"Tokens\"] = df.apply(lambda row: tokenizer.tokenize(row['Text_2']), axis=1)\n",
    "#remove stopwords\n",
    "df['Tokens_1'] = df['Tokens'].apply(lambda x: [item for item in x if item not in stop_words])\n",
    "#merge tokens back into string text\n",
    "df['Text_3']=[\" \".join(txt) for txt in df[\"Tokens_1\"].values]\n",
    "#create bigrams\n",
    "df[\"Tokens_2\"] = df[\"Tokens_1\"].apply(lambda row: list(ngrams(row, 2)))\n",
    "df.head()"
   ]
  },
  {
   "cell_type": "code",
   "execution_count": 18,
   "id": "223a747d",
   "metadata": {
    "execution": {
     "iopub.execute_input": "2022-10-03T06:43:39.656743Z",
     "iopub.status.busy": "2022-10-03T06:43:39.656207Z",
     "iopub.status.idle": "2022-10-03T06:43:39.668845Z",
     "shell.execute_reply": "2022-10-03T06:43:39.667768Z"
    },
    "papermill": {
     "duration": 0.030686,
     "end_time": "2022-10-03T06:43:39.671098",
     "exception": false,
     "start_time": "2022-10-03T06:43:39.640412",
     "status": "completed"
    },
    "tags": []
   },
   "outputs": [
    {
     "data": {
      "text/plain": [
       "array([231, 135, 119, 133, 183, 117, 126,  83, 119, 123, 372, 231, 582,\n",
       "       396, 120, 150, 548,  80, 216, 398, 102, 155, 609, 455, 452, 371,\n",
       "       376,  79, 573, 223, 305,  42,   9, 178, 126, 453,  44, 387, 122,\n",
       "       476, 428, 370, 450, 251,  18, 108, 516, 263, 112, 554, 143, 612,\n",
       "        36, 138, 168, 375, 138, 366, 408,  39, 554, 444, 454, 310, 297,\n",
       "        71, 332, 420, 174, 554, 299, 447, 126, 282,  82, 206, 473, 398,\n",
       "       295, 335, 459, 311, 356, 440, 640, 163, 578, 239,  29, 407, 142,\n",
       "       404,  79,  47,  62,  25, 524, 561,  99,  60, 355,  37, 572, 509,\n",
       "       585, 172, 103, 513, 434, 106, 281, 215, 623, 102, 503,  88, 288,\n",
       "       611, 577, 271, 414, 474, 479, 328, 637,   6, 286, 366, 363, 352,\n",
       "       463, 516, 292, 626, 554,  31, 205, 333, 156,  35,  67, 365, 653,\n",
       "       517, 107, 255,  50, 254, 203, 520,  85, 510, 198, 481,  91, 114,\n",
       "       655,  26, 110, 148, 539,  15, 113, 126, 506, 314, 353, 119,  40,\n",
       "       610, 101, 553, 659, 464, 388, 272, 188,  94, 554, 169, 145, 491,\n",
       "       448, 367, 306, 540, 516,  51, 465, 451, 461,  76, 554, 514, 104,\n",
       "       493, 249, 386, 401, 340, 262, 296, 429, 465,  53, 170, 516, 264,\n",
       "       449, 537, 400,  41, 601, 570, 145, 632, 273, 380,  19,  54, 616,\n",
       "       139, 511, 202, 550,  95, 532,  46, 469, 301, 190,  22, 397, 402,\n",
       "       527,  48, 583,  43, 274, 597, 336, 571, 410,  45, 602, 277, 392,\n",
       "       425, 418, 359, 656, 366, 233, 145, 290, 475, 167, 118, 134, 149,\n",
       "        30, 132, 308, 220, 204, 124, 135, 276, 221, 319, 119, 119, 135,\n",
       "       384,  17, 137, 547, 121,  79, 227, 319, 126, 208,  87, 179,  33,\n",
       "       160, 153, 608, 321, 214, 455, 500, 347, 128, 217, 366, 285, 453,\n",
       "       234,  34, 380, 419, 621, 375, 343, 257,  32, 512, 250, 188, 467,\n",
       "       287, 339, 349, 380, 222, 399, 627, 558, 411, 380, 625, 443,  58,\n",
       "       293, 135,  79, 403, 340, 252, 200, 236, 320, 188, 574, 177, 196,\n",
       "       441, 319, 375, 554, 130, 258,  27, 350, 199, 374, 575, 320, 195,\n",
       "        86, 188, 564, 406, 380, 546, 240, 235, 161, 643, 565, 641, 447,\n",
       "       158, 125, 136, 225, 242, 176,  73, 241, 413, 188, 180, 405, 660,\n",
       "       416, 357, 424,  93, 180, 470, 126,  79, 228, 622, 186, 605, 320,\n",
       "        19, 226,  79, 258, 486, 265, 126, 389, 127, 278, 282, 648, 245,\n",
       "       346,  64,  19, 218, 478, 131, 421, 340, 643, 126, 180, 538,   1,\n",
       "       377,  97, 230, 651, 126, 324, 515,  16, 197,   2, 348, 171, 188,\n",
       "        90, 313, 351, 427, 279,   8,   0, 635, 302, 258,  84, 256,  72,\n",
       "        19,  12, 210, 369, 447, 115, 151,  64,  78, 135, 535, 284, 164,\n",
       "       248,  68, 380, 376,  19, 352, 157, 344, 247, 307, 329, 576,  79,\n",
       "       100, 391, 483, 340, 324, 181, 577, 232, 557, 395, 393, 646, 642,\n",
       "       644, 140, 376, 268, 140, 342, 649, 614,  75, 354, 340, 317, 441,\n",
       "       554,  61, 184, 650, 220, 192,   8, 592,  28, 194, 569, 383, 472,\n",
       "       525, 283, 555, 423, 645, 291, 492, 633, 318, 366, 326,  65, 504,\n",
       "       447, 516, 318, 456, 180, 243, 312, 487, 382, 441, 652, 373,  77,\n",
       "       315,  20,   7, 600, 175, 145, 613, 482, 484, 280, 480, 549, 469,\n",
       "        92, 639, 325, 624,  70, 258, 606, 437, 212, 191, 628, 643, 300,\n",
       "       560, 620,   4, 470, 636, 594, 210, 300,  78, 631, 432, 348, 165,\n",
       "       563, 529, 258, 278,  38, 458, 385, 545, 275, 654, 116,  19, 542,\n",
       "       175, 362, 461, 531,  78, 468, 431,  74, 379, 554,  74, 530, 244,\n",
       "       328, 488, 224, 237, 423,  59, 267, 595, 426, 294, 551,  63, 485,\n",
       "       460,  96, 556, 501, 586, 516, 187, 147, 162, 334, 316, 189, 436,\n",
       "        56, 198, 211, 591, 340, 219, 390, 275, 441, 368, 309, 433, 345,\n",
       "       615, 105, 435,  77, 180, 338,  83, 579,  49, 340, 422, 109, 188,\n",
       "       647, 298,  23, 409, 442,  19,  81,  24, 394, 415, 590,  10, 453,\n",
       "       656, 568, 489, 269, 588, 488, 159, 193,   5, 229, 516, 529, 111,\n",
       "       466, 536, 562, 331, 328, 507, 607, 417,   3, 441,  13, 327, 364,\n",
       "       325, 146, 603, 315, 495, 207, 266, 534, 656, 145, 617, 521, 277,\n",
       "       381, 129, 602, 587, 567, 322, 213, 559, 182, 457, 544, 465, 566,\n",
       "       629, 508, 154, 445, 602, 337, 166,  66, 270,  19, 490, 414,  65,\n",
       "       528, 246, 253, 598,  57,  14, 309, 410, 477,  98, 418, 580, 599,\n",
       "       323, 188, 260, 210, 581, 499, 589, 185, 361, 152, 618, 261, 430,\n",
       "       141, 656, 201, 519, 518, 358, 541, 289, 209,  69, 304, 656, 630,\n",
       "       657, 412, 145, 341,  55, 658, 638, 494, 578, 458,  88, 471, 188,\n",
       "       298,  21, 303, 378,  64, 593, 172, 438, 188, 173, 505, 533, 523,\n",
       "       522, 259,  89,  52, 238, 596, 360, 634, 144, 584,  11, 180, 543,\n",
       "       552, 502, 446,  75, 604, 330, 498, 526, 619, 656, 497, 656, 496,\n",
       "       602, 462, 439, 502, 446,  75, 604, 330, 498, 526, 619, 656, 497,\n",
       "       656, 496, 602, 462, 439, 502, 446,  75, 604, 330, 498, 526, 619,\n",
       "       656, 497, 656, 496, 602, 462, 439, 502, 446,  75, 604, 330, 498,\n",
       "       526, 619, 656, 497, 656, 496, 602, 462, 439, 502, 446,  75, 604,\n",
       "       498, 330, 526, 656, 619, 497, 656, 496, 462, 602, 439, 502, 446,\n",
       "        75, 604, 330, 498, 526, 619, 656, 497, 656, 496, 602, 462, 439,\n",
       "       502, 446,  75, 604, 330, 498, 526, 619, 656, 497, 656, 496, 602,\n",
       "       462, 439, 446, 502,  75, 604, 330, 498, 619, 526, 497, 656, 656,\n",
       "       496, 602, 462, 439])"
      ]
     },
     "execution_count": 18,
     "metadata": {},
     "output_type": "execute_result"
    }
   ],
   "source": [
    "encoder = LabelEncoder()\n",
    "y = encoder.fit_transform(df.job_title)\n",
    "y"
   ]
  },
  {
   "cell_type": "code",
   "execution_count": 19,
   "id": "222f028f",
   "metadata": {
    "execution": {
     "iopub.execute_input": "2022-10-03T06:43:39.701738Z",
     "iopub.status.busy": "2022-10-03T06:43:39.701315Z",
     "iopub.status.idle": "2022-10-03T06:43:39.736522Z",
     "shell.execute_reply": "2022-10-03T06:43:39.735187Z"
    },
    "papermill": {
     "duration": 0.054035,
     "end_time": "2022-10-03T06:43:39.739558",
     "exception": false,
     "start_time": "2022-10-03T06:43:39.685523",
     "status": "completed"
    },
    "tags": []
   },
   "outputs": [],
   "source": [
    "v = TfidfVectorizer(max_features=100)\n",
    "x = df[\"Text_3\"]\n",
    "v.fit(x)\n",
    "v2={}\n",
    "for a, b in v.vocabulary_.items():\n",
    "    v2[b] = a"
   ]
  },
  {
   "cell_type": "code",
   "execution_count": 20,
   "id": "b9e253d4",
   "metadata": {
    "execution": {
     "iopub.execute_input": "2022-10-03T06:43:39.771173Z",
     "iopub.status.busy": "2022-10-03T06:43:39.770732Z",
     "iopub.status.idle": "2022-10-03T06:43:39.776471Z",
     "shell.execute_reply": "2022-10-03T06:43:39.775135Z"
    },
    "papermill": {
     "duration": 0.024839,
     "end_time": "2022-10-03T06:43:39.779249",
     "exception": false,
     "start_time": "2022-10-03T06:43:39.754410",
     "status": "completed"
    },
    "tags": []
   },
   "outputs": [
    {
     "name": "stdout",
     "output_type": "stream",
     "text": [
      "similar\n"
     ]
    }
   ],
   "source": [
    "print(v2.get(71))"
   ]
  },
  {
   "cell_type": "code",
   "execution_count": 21,
   "id": "a47791e6",
   "metadata": {
    "execution": {
     "iopub.execute_input": "2022-10-03T06:43:39.811712Z",
     "iopub.status.busy": "2022-10-03T06:43:39.810548Z",
     "iopub.status.idle": "2022-10-03T06:43:39.833515Z",
     "shell.execute_reply": "2022-10-03T06:43:39.832183Z"
    },
    "papermill": {
     "duration": 0.042014,
     "end_time": "2022-10-03T06:43:39.836062",
     "exception": false,
     "start_time": "2022-10-03T06:43:39.794048",
     "status": "completed"
    },
    "tags": []
   },
   "outputs": [],
   "source": [
    "x_tfidf = v.transform(x)"
   ]
  },
  {
   "cell_type": "code",
   "execution_count": 22,
   "id": "5d4f8e8a",
   "metadata": {
    "execution": {
     "iopub.execute_input": "2022-10-03T06:43:39.868269Z",
     "iopub.status.busy": "2022-10-03T06:43:39.867823Z",
     "iopub.status.idle": "2022-10-03T06:43:39.874711Z",
     "shell.execute_reply": "2022-10-03T06:43:39.872839Z"
    },
    "papermill": {
     "duration": 0.024805,
     "end_time": "2022-10-03T06:43:39.876807",
     "exception": false,
     "start_time": "2022-10-03T06:43:39.852002",
     "status": "completed"
    },
    "tags": []
   },
   "outputs": [
    {
     "name": "stdout",
     "output_type": "stream",
     "text": [
      "  (0, 20)\t0.7057889760945627\n",
      "  (0, 3)\t0.7084221349050217\n",
      "  (1, 80)\t0.4537622070523447\n",
      "  (1, 72)\t0.4861032495232101\n",
      "  (1, 33)\t0.28511978495544715\n",
      "  (1, 25)\t0.43434822345308205\n",
      "  (1, 20)\t0.29683963668333735\n",
      "  (1, 3)\t0.44692062981896047\n",
      "  (2, 66)\t0.5076588462682726\n",
      "  (2, 33)\t0.5466891414786834\n",
      "  (2, 23)\t0.6020194956135999\n",
      "  (2, 20)\t0.2845804021643319\n",
      "  (3, 75)\t0.4736077439561708\n",
      "  (3, 66)\t0.28468745291271313\n",
      "  (3, 56)\t0.4781933203929278\n",
      "  (3, 27)\t0.4126409233456519\n",
      "  (3, 20)\t0.31917682686544185\n",
      "  (3, 13)\t0.44026529379791024\n",
      "  (4, 66)\t0.34222425892826935\n",
      "  (4, 30)\t0.5028033297058242\n",
      "  (4, 23)\t0.4058348973157858\n",
      "  (4, 21)\t0.6546495471544623\n",
      "  (4, 20)\t0.19184205683028988\n",
      "  (5, 56)\t0.25889472287360576\n",
      "  (5, 48)\t0.24219138370824322\n",
      "  :\t:\n",
      "  (923, 14)\t0.31967460897957584\n",
      "  (923, 9)\t0.2882230479777245\n",
      "  (923, 4)\t0.32478991737807655\n",
      "  (924, 97)\t0.2937090107736446\n",
      "  (924, 65)\t0.35241014340239923\n",
      "  (924, 63)\t0.397120432116544\n",
      "  (924, 57)\t0.3769437243468932\n",
      "  (924, 56)\t0.3380883896785395\n",
      "  (924, 43)\t0.38502874909975054\n",
      "  (924, 42)\t0.3769437243468932\n",
      "  (924, 27)\t0.29174206192333163\n",
      "  (925, 81)\t0.33247618482749614\n",
      "  (925, 74)\t0.40952760802746024\n",
      "  (925, 73)\t0.30699706924251174\n",
      "  (925, 66)\t0.22861420280004519\n",
      "  (925, 20)\t0.12815520157199126\n",
      "  (925, 18)\t0.23427337769687465\n",
      "  (925, 1)\t0.7098783694077512\n",
      "  (926, 81)\t0.33247618482749614\n",
      "  (926, 74)\t0.40952760802746024\n",
      "  (926, 73)\t0.30699706924251174\n",
      "  (926, 66)\t0.22861420280004519\n",
      "  (926, 20)\t0.12815520157199126\n",
      "  (926, 18)\t0.23427337769687465\n",
      "  (926, 1)\t0.7098783694077512\n"
     ]
    }
   ],
   "source": [
    "print(x_tfidf)"
   ]
  },
  {
   "cell_type": "code",
   "execution_count": 23,
   "id": "36b32bb1",
   "metadata": {
    "execution": {
     "iopub.execute_input": "2022-10-03T06:43:39.908123Z",
     "iopub.status.busy": "2022-10-03T06:43:39.907387Z",
     "iopub.status.idle": "2022-10-03T06:43:40.321371Z",
     "shell.execute_reply": "2022-10-03T06:43:40.319758Z"
    },
    "papermill": {
     "duration": 0.432325,
     "end_time": "2022-10-03T06:43:40.323941",
     "exception": false,
     "start_time": "2022-10-03T06:43:39.891616",
     "status": "completed"
    },
    "tags": []
   },
   "outputs": [
    {
     "name": "stdout",
     "output_type": "stream",
     "text": [
      "SVM Accuracy Score ->  84.57389428263214\n"
     ]
    }
   ],
   "source": [
    "s = svm.LinearSVC(C=1.0)\n",
    "s.fit(x_tfidf, y)\n",
    "s_pred = s.predict(x_tfidf)\n",
    "print(\"SVM Accuracy Score -> \",accuracy_score(s_pred, y)*100)"
   ]
  },
  {
   "cell_type": "code",
   "execution_count": 24,
   "id": "e6e663ab",
   "metadata": {
    "execution": {
     "iopub.execute_input": "2022-10-03T06:43:40.357679Z",
     "iopub.status.busy": "2022-10-03T06:43:40.356601Z",
     "iopub.status.idle": "2022-10-03T06:43:40.366835Z",
     "shell.execute_reply": "2022-10-03T06:43:40.365651Z"
    },
    "papermill": {
     "duration": 0.030278,
     "end_time": "2022-10-03T06:43:40.369057",
     "exception": false,
     "start_time": "2022-10-03T06:43:40.338779",
     "status": "completed"
    },
    "tags": []
   },
   "outputs": [
    {
     "data": {
      "text/plain": [
       "array([-1.52291795e-01, -2.41832408e-02, -8.76002363e-02,  1.87517588e-01,\n",
       "        0.00000000e+00, -1.46176833e-02, -8.47112296e-03, -1.72616783e-02,\n",
       "       -7.42164355e-03,  0.00000000e+00,  6.93889390e-18,  0.00000000e+00,\n",
       "       -1.20430587e-02, -6.01857106e-02,  4.33680869e-19, -2.02668123e-03,\n",
       "       -1.71151077e-02,  2.53976166e-01, -5.83955374e-02,  2.79496600e-01,\n",
       "       -1.83569151e-01, -1.33745408e-02, -4.33680869e-19, -9.55886268e-03,\n",
       "       -3.36264407e-02, -1.43459478e-02,  3.68628739e-18, -5.34877408e-02,\n",
       "       -1.63199912e-02, -9.13331745e-02, -2.01265153e-02, -7.30096386e-04,\n",
       "        0.00000000e+00, -1.12900570e-01, -2.91578245e-03, -1.26020985e-02,\n",
       "       -3.43347710e-02,  0.00000000e+00, -1.94767733e-02, -3.71520992e-02,\n",
       "       -6.98781555e-03, -7.13089040e-03, -4.53251631e-02, -4.09366288e-02,\n",
       "       -4.55096328e-02, -6.35371198e-02, -1.32204046e-02, -4.55044340e-02,\n",
       "       -2.27045490e-02, -1.73472348e-18, -1.04256350e-02, -1.95635914e-02,\n",
       "       -3.31375059e-02, -1.90819582e-17, -7.72403022e-03, -1.06029889e-01,\n",
       "       -3.59458844e-02, -9.10511377e-02, -5.76413517e-02, -2.16840434e-18,\n",
       "       -2.93733808e-02, -2.50474155e-02, -4.47258695e-02,  4.20191018e-01,\n",
       "       -6.90979595e-03, -1.63262080e-01, -5.64368311e-02, -1.73472348e-18,\n",
       "       -5.16710756e-02, -1.27106984e-02,  0.00000000e+00,  3.46944695e-18,\n",
       "       -3.47414303e-02, -8.93957309e-02, -1.10097585e-02, -1.82008293e-02,\n",
       "       -3.03642562e-02, -6.62763787e-02, -1.72616783e-02, -3.53786384e-03,\n",
       "       -3.73515509e-02, -7.00668393e-03, -9.95030232e-02, -6.20158372e-02,\n",
       "       -1.97620054e-02, -1.96497653e-02,  0.00000000e+00, -1.01296870e-01,\n",
       "       -9.21622932e-03, -6.67227331e-02, -1.23492402e-02,  0.00000000e+00,\n",
       "       -1.51689113e-02,  2.90637700e-01,  8.67361738e-19, -1.54784115e-02,\n",
       "        0.00000000e+00,  2.18863685e-01, -4.33680869e-18, -7.73052802e-03])"
      ]
     },
     "execution_count": 24,
     "metadata": {},
     "output_type": "execute_result"
    }
   ],
   "source": [
    "s.coef_[0]"
   ]
  },
  {
   "cell_type": "code",
   "execution_count": 25,
   "id": "1e5fe650",
   "metadata": {
    "execution": {
     "iopub.execute_input": "2022-10-03T06:43:40.401020Z",
     "iopub.status.busy": "2022-10-03T06:43:40.400230Z",
     "iopub.status.idle": "2022-10-03T06:43:40.405984Z",
     "shell.execute_reply": "2022-10-03T06:43:40.404997Z"
    },
    "papermill": {
     "duration": 0.024525,
     "end_time": "2022-10-03T06:43:40.408494",
     "exception": false,
     "start_time": "2022-10-03T06:43:40.383969",
     "status": "completed"
    },
    "tags": []
   },
   "outputs": [],
   "source": [
    "df[\"SVM_Prediction\"] = s_pred"
   ]
  },
  {
   "cell_type": "code",
   "execution_count": 26,
   "id": "76d7b67b",
   "metadata": {
    "execution": {
     "iopub.execute_input": "2022-10-03T06:43:40.440700Z",
     "iopub.status.busy": "2022-10-03T06:43:40.439957Z",
     "iopub.status.idle": "2022-10-03T06:43:40.484270Z",
     "shell.execute_reply": "2022-10-03T06:43:40.483103Z"
    },
    "papermill": {
     "duration": 0.063304,
     "end_time": "2022-10-03T06:43:40.486915",
     "exception": false,
     "start_time": "2022-10-03T06:43:40.423611",
     "status": "completed"
    },
    "tags": []
   },
   "outputs": [
    {
     "data": {
      "text/html": [
       "<div>\n",
       "<style scoped>\n",
       "    .dataframe tbody tr th:only-of-type {\n",
       "        vertical-align: middle;\n",
       "    }\n",
       "\n",
       "    .dataframe tbody tr th {\n",
       "        vertical-align: top;\n",
       "    }\n",
       "\n",
       "    .dataframe thead th {\n",
       "        text-align: right;\n",
       "    }\n",
       "</style>\n",
       "<table border=\"1\" class=\"dataframe\">\n",
       "  <thead>\n",
       "    <tr style=\"text-align: right;\">\n",
       "      <th></th>\n",
       "      <th>job_title</th>\n",
       "      <th>job_company</th>\n",
       "      <th>job_location</th>\n",
       "      <th>job_summary</th>\n",
       "      <th>Text_1</th>\n",
       "      <th>Text_2</th>\n",
       "      <th>Tokens</th>\n",
       "      <th>Tokens_1</th>\n",
       "      <th>Text_3</th>\n",
       "      <th>Tokens_2</th>\n",
       "      <th>SVM_Prediction</th>\n",
       "    </tr>\n",
       "  </thead>\n",
       "  <tbody>\n",
       "    <tr>\n",
       "      <th>0</th>\n",
       "      <td>Information Management Assistant</td>\n",
       "      <td>United Nations Pakistan</td>\n",
       "      <td>Pakistan</td>\n",
       "      <td>Assist in data cleaning and analysis by ensuri...</td>\n",
       "      <td>assist in data cleaning and analysis by ensuri...</td>\n",
       "      <td>assist in data cleaning and analysis by ensuri...</td>\n",
       "      <td>[assist, in, data, cleaning, and, analysis, by...</td>\n",
       "      <td>[assist, data, cleaning, analysis, ensuring, d...</td>\n",
       "      <td>assist data cleaning analysis ensuring data co...</td>\n",
       "      <td>[(assist, data), (data, cleaning), (cleaning, ...</td>\n",
       "      <td>231</td>\n",
       "    </tr>\n",
       "    <tr>\n",
       "      <th>1</th>\n",
       "      <td>Data Scientist</td>\n",
       "      <td>Teradata</td>\n",
       "      <td>Islamabad</td>\n",
       "      <td>Experience in data analysis is a plus.Strong h...</td>\n",
       "      <td>experience in data analysis is a plus.strong h...</td>\n",
       "      <td>experience in data analysis is a plus.strong h...</td>\n",
       "      <td>[experience, in, data, analysis, is, a, plus, ...</td>\n",
       "      <td>[experience, data, analysis, plus, strong, han...</td>\n",
       "      <td>experience data analysis plus strong hands dat...</td>\n",
       "      <td>[(experience, data), (data, analysis), (analys...</td>\n",
       "      <td>135</td>\n",
       "    </tr>\n",
       "    <tr>\n",
       "      <th>2</th>\n",
       "      <td>Data Analyst</td>\n",
       "      <td>Aga Khan Health Service, Pakistan</td>\n",
       "      <td>Karachi</td>\n",
       "      <td>B.Sc. degree (or equivalent level of professio...</td>\n",
       "      <td>b.sc. degree (or equivalent level of professio...</td>\n",
       "      <td>b.sc. degree (or equivalent level of professio...</td>\n",
       "      <td>[b, sc, degree, or, equivalent, level, of, pro...</td>\n",
       "      <td>[b, sc, degree, equivalent, level, professiona...</td>\n",
       "      <td>b sc degree equivalent level professional expe...</td>\n",
       "      <td>[(b, sc), (sc, degree), (degree, equivalent), ...</td>\n",
       "      <td>119</td>\n",
       "    </tr>\n",
       "    <tr>\n",
       "      <th>3</th>\n",
       "      <td>Data Processing Associate</td>\n",
       "      <td>GfK</td>\n",
       "      <td>Karachi</td>\n",
       "      <td>To suggest improvements in product data develo...</td>\n",
       "      <td>to suggest improvements in product data develo...</td>\n",
       "      <td>to suggest improvements in product data develo...</td>\n",
       "      <td>[to, suggest, improvements, in, product, data,...</td>\n",
       "      <td>[suggest, improvements, product, data, develop...</td>\n",
       "      <td>suggest improvements product data development ...</td>\n",
       "      <td>[(suggest, improvements), (improvements, produ...</td>\n",
       "      <td>133</td>\n",
       "    </tr>\n",
       "    <tr>\n",
       "      <th>4</th>\n",
       "      <td>Front Line Manager</td>\n",
       "      <td>PepsiCo</td>\n",
       "      <td>Multan</td>\n",
       "      <td>Degree in either engineering or food science.E...</td>\n",
       "      <td>degree in either engineering or food science.e...</td>\n",
       "      <td>degree in either engineering or food science.e...</td>\n",
       "      <td>[degree, in, either, engineering, or, food, sc...</td>\n",
       "      <td>[degree, either, engineering, food, science, e...</td>\n",
       "      <td>degree either engineering food science ensures...</td>\n",
       "      <td>[(degree, either), (either, engineering), (eng...</td>\n",
       "      <td>183</td>\n",
       "    </tr>\n",
       "  </tbody>\n",
       "</table>\n",
       "</div>"
      ],
      "text/plain": [
       "                          job_title                        job_company  \\\n",
       "0  Information Management Assistant            United Nations Pakistan   \n",
       "1                    Data Scientist                           Teradata   \n",
       "2                      Data Analyst  Aga Khan Health Service, Pakistan   \n",
       "3         Data Processing Associate                                GfK   \n",
       "4                Front Line Manager                            PepsiCo   \n",
       "\n",
       "  job_location                                        job_summary  \\\n",
       "0     Pakistan  Assist in data cleaning and analysis by ensuri...   \n",
       "1    Islamabad  Experience in data analysis is a plus.Strong h...   \n",
       "2      Karachi  B.Sc. degree (or equivalent level of professio...   \n",
       "3      Karachi  To suggest improvements in product data develo...   \n",
       "4       Multan  Degree in either engineering or food science.E...   \n",
       "\n",
       "                                              Text_1  \\\n",
       "0  assist in data cleaning and analysis by ensuri...   \n",
       "1  experience in data analysis is a plus.strong h...   \n",
       "2  b.sc. degree (or equivalent level of professio...   \n",
       "3  to suggest improvements in product data develo...   \n",
       "4  degree in either engineering or food science.e...   \n",
       "\n",
       "                                              Text_2  \\\n",
       "0  assist in data cleaning and analysis by ensuri...   \n",
       "1  experience in data analysis is a plus.strong h...   \n",
       "2  b.sc. degree (or equivalent level of professio...   \n",
       "3  to suggest improvements in product data develo...   \n",
       "4  degree in either engineering or food science.e...   \n",
       "\n",
       "                                              Tokens  \\\n",
       "0  [assist, in, data, cleaning, and, analysis, by...   \n",
       "1  [experience, in, data, analysis, is, a, plus, ...   \n",
       "2  [b, sc, degree, or, equivalent, level, of, pro...   \n",
       "3  [to, suggest, improvements, in, product, data,...   \n",
       "4  [degree, in, either, engineering, or, food, sc...   \n",
       "\n",
       "                                            Tokens_1  \\\n",
       "0  [assist, data, cleaning, analysis, ensuring, d...   \n",
       "1  [experience, data, analysis, plus, strong, han...   \n",
       "2  [b, sc, degree, equivalent, level, professiona...   \n",
       "3  [suggest, improvements, product, data, develop...   \n",
       "4  [degree, either, engineering, food, science, e...   \n",
       "\n",
       "                                              Text_3  \\\n",
       "0  assist data cleaning analysis ensuring data co...   \n",
       "1  experience data analysis plus strong hands dat...   \n",
       "2  b sc degree equivalent level professional expe...   \n",
       "3  suggest improvements product data development ...   \n",
       "4  degree either engineering food science ensures...   \n",
       "\n",
       "                                            Tokens_2  SVM_Prediction  \n",
       "0  [(assist, data), (data, cleaning), (cleaning, ...             231  \n",
       "1  [(experience, data), (data, analysis), (analys...             135  \n",
       "2  [(b, sc), (sc, degree), (degree, equivalent), ...             119  \n",
       "3  [(suggest, improvements), (improvements, produ...             133  \n",
       "4  [(degree, either), (either, engineering), (eng...             183  "
      ]
     },
     "execution_count": 26,
     "metadata": {},
     "output_type": "execute_result"
    }
   ],
   "source": [
    "df.head()"
   ]
  },
  {
   "cell_type": "code",
   "execution_count": 27,
   "id": "7695971e",
   "metadata": {
    "execution": {
     "iopub.execute_input": "2022-10-03T06:43:40.520087Z",
     "iopub.status.busy": "2022-10-03T06:43:40.519630Z",
     "iopub.status.idle": "2022-10-03T06:43:40.536410Z",
     "shell.execute_reply": "2022-10-03T06:43:40.535353Z"
    },
    "papermill": {
     "duration": 0.036758,
     "end_time": "2022-10-03T06:43:40.538944",
     "exception": false,
     "start_time": "2022-10-03T06:43:40.502186",
     "status": "completed"
    },
    "tags": []
   },
   "outputs": [
    {
     "data": {
      "text/plain": [
       "array([[2, 0, 0],\n",
       "       [0, 0, 1],\n",
       "       [1, 0, 2]])"
      ]
     },
     "execution_count": 27,
     "metadata": {},
     "output_type": "execute_result"
    }
   ],
   "source": [
    "confusion_matrix(s_pred, y)\n",
    "y_true = [2, 0, 2, 2, 0, 1]\n",
    "y_pred = [0, 0, 2, 2, 0, 2]\n",
    "confusion_matrix(y_true, y_pred)"
   ]
  }
 ],
 "metadata": {
  "kernelspec": {
   "display_name": "Python 3",
   "language": "python",
   "name": "python3"
  },
  "language_info": {
   "codemirror_mode": {
    "name": "ipython",
    "version": 3
   },
   "file_extension": ".py",
   "mimetype": "text/x-python",
   "name": "python",
   "nbconvert_exporter": "python",
   "pygments_lexer": "ipython3",
   "version": "3.7.12"
  },
  "papermill": {
   "default_parameters": {},
   "duration": 14.993369,
   "end_time": "2022-10-03T06:43:41.376488",
   "environment_variables": {},
   "exception": null,
   "input_path": "__notebook__.ipynb",
   "output_path": "__notebook__.ipynb",
   "parameters": {},
   "start_time": "2022-10-03T06:43:26.383119",
   "version": "2.3.4"
  }
 },
 "nbformat": 4,
 "nbformat_minor": 5
}
